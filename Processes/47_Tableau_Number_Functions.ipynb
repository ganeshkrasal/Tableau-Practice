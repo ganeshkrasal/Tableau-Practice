{
 "cells": [
  {
   "cell_type": "markdown",
   "id": "7b6ac220",
   "metadata": {},
   "source": [
    "# 47_Tableau_Number_Functions..,\n",
    ">> ### How to work with Number Functions in Tableau..??"
   ]
  },
  {
   "cell_type": "markdown",
   "id": "8cd8defc",
   "metadata": {},
   "source": [
    "## Same as that of Calculated Fields..,"
   ]
  },
  {
   "cell_type": "markdown",
   "id": "6f111f39",
   "metadata": {},
   "source": []
  }
 ],
 "metadata": {
  "kernelspec": {
   "display_name": "Python 3",
   "language": "python",
   "name": "python3"
  },
  "language_info": {
   "codemirror_mode": {
    "name": "ipython",
    "version": 3
   },
   "file_extension": ".py",
   "mimetype": "text/x-python",
   "name": "python",
   "nbconvert_exporter": "python",
   "pygments_lexer": "ipython3",
   "version": "3.8.8"
  }
 },
 "nbformat": 4,
 "nbformat_minor": 5
}
