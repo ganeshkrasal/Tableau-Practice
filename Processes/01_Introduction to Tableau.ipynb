{
 "cells": [
  {
   "cell_type": "markdown",
   "id": "07bbfb10",
   "metadata": {},
   "source": [
    "> # 01 : Introduction to Tableau..,"
   ]
  },
  {
   "cell_type": "markdown",
   "id": "ec755e6b",
   "metadata": {},
   "source": [
    "## What is Tableau..??\n",
    ">> Tableau is a business intelligence tool which helps **to analyze the data in the form of visual manner..,** e.g. Graphs, Reports, Charts, DashBoards etc.,\n",
    "\n",
    "#### _Meaning in Marathi_ :\n",
    "> अचानक घडवून आणलेला नाट्यपूर्ण प्रसंग,\n",
    "  __मूक आणि स्तब्ध नटांचा मिळून होणारा देखावा..,__\n"
   ]
  },
  {
   "cell_type": "markdown",
   "id": "d96c3949",
   "metadata": {},
   "source": [
    "## Tableau Tools :\n",
    "### 1) Tableau Desktop \n",
    "> To Create different types of reports..,\n",
    "### 2) Tableau Online\n",
    "> To Create different types of reports..,\n",
    "### 3) Tableau Server\n",
    "> To Publish the Reports..,\n",
    "### 4) Tableau Reader\n",
    "> To Publish the Reports..,\n",
    "### 5) Tableau Public\n",
    "> To Publish the Reports..,\n",
    "\n",
    "___________________________________________________________________________________________________________________"
   ]
  },
  {
   "cell_type": "markdown",
   "id": "de12c8db",
   "metadata": {},
   "source": [
    "### DataBase Supported/Compatibility :\n",
    "- SpreadSheets,\n",
    "- BigData, \n",
    "- DataBase,\n",
    "- Cloud DataBases.., etc..,\n",
    "\n",
    "### Places to Publish the Reports :\n",
    "- Phone\n",
    "- Computer\n",
    "- Tablet\n",
    "_____"
   ]
  },
  {
   "cell_type": "markdown",
   "id": "4027b6d6",
   "metadata": {},
   "source": [
    "### _Tableau to DataBase :_\n",
    "> Divides Database into two parts :\n",
    "\n",
    "1. **Dimensions** - Texts, Dates, Geographical things etc.,\n",
    "2. **Measure**    - Number, Figures, Float values etc.,"
   ]
  },
  {
   "cell_type": "markdown",
   "id": "c0fa1ce2",
   "metadata": {},
   "source": [
    "### _Tableau Charts :_\n",
    "> There are 24 Types of different charts :\n",
    "1. Bar Charts,\n",
    "1. Stacked Bar Charts,\n",
    "1. Pie Charts,\n",
    "1. Line Charts,\n",
    "1. Scatter Chart,\n",
    "1. Packed Bubble Chart,\n",
    "1. Word Map,\n",
    "1. Tree Maps,\n",
    "1. WaterFall Chart\n",
    "1. India Map,\n",
    "1. US Map,\n",
    "1. Basic Funnel Chart etc..,\n",
    "\n",
    "## _It takes 30 seconds to create any type of chart, just be patient & practice..,_\n",
    "****\n",
    "\n",
    "### Connecting Databses :"
   ]
  },
  {
   "cell_type": "markdown",
   "id": "12fd2f50",
   "metadata": {},
   "source": [
    "![Connecting](Connecting_Databases.jpg)"
   ]
  },
  {
   "cell_type": "code",
   "execution_count": null,
   "id": "2105c7ca",
   "metadata": {},
   "outputs": [],
   "source": []
  },
  {
   "cell_type": "code",
   "execution_count": null,
   "id": "473fc551",
   "metadata": {},
   "outputs": [],
   "source": []
  },
  {
   "cell_type": "code",
   "execution_count": null,
   "id": "638c583e",
   "metadata": {},
   "outputs": [],
   "source": []
  },
  {
   "cell_type": "code",
   "execution_count": null,
   "id": "43bb9c8b",
   "metadata": {},
   "outputs": [],
   "source": []
  },
  {
   "cell_type": "code",
   "execution_count": null,
   "id": "092df5e8",
   "metadata": {},
   "outputs": [],
   "source": []
  }
 ],
 "metadata": {
  "kernelspec": {
   "display_name": "Python 3",
   "language": "python",
   "name": "python3"
  },
  "language_info": {
   "codemirror_mode": {
    "name": "ipython",
    "version": 3
   },
   "file_extension": ".py",
   "mimetype": "text/x-python",
   "name": "python",
   "nbconvert_exporter": "python",
   "pygments_lexer": "ipython3",
   "version": "3.8.8"
  }
 },
 "nbformat": 4,
 "nbformat_minor": 5
}
