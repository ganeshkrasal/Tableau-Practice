{
 "cells": [
  {
   "cell_type": "markdown",
   "id": "0b2d9d9a",
   "metadata": {},
   "source": [
    "# 72_Tableau_Vehicle_Registration..,"
   ]
  },
  {
   "cell_type": "code",
   "execution_count": null,
   "id": "c8a38243",
   "metadata": {},
   "outputs": [],
   "source": []
  }
 ],
 "metadata": {
  "kernelspec": {
   "display_name": "Python 3",
   "language": "python",
   "name": "python3"
  },
  "language_info": {
   "codemirror_mode": {
    "name": "ipython",
    "version": 3
   },
   "file_extension": ".py",
   "mimetype": "text/x-python",
   "name": "python",
   "nbconvert_exporter": "python",
   "pygments_lexer": "ipython3",
   "version": "3.8.8"
  }
 },
 "nbformat": 4,
 "nbformat_minor": 5
}
